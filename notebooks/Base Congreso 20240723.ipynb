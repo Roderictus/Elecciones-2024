{
 "cells": [
  {
   "cell_type": "code",
   "execution_count": 18,
   "id": "1f05286c",
   "metadata": {},
   "outputs": [
    {
     "name": "stdout",
     "output_type": "stream",
     "text": [
      "           ENTIDAD  ID_DISTRITO_FEDERAL DISTRITO_FEDERAL       PAN      PRI  \\\n",
      "0   AGUASCALIENTES                    1      JESÚS MARÍA   74830.0  23971.0   \n",
      "1   AGUASCALIENTES                    2   AGUASCALIENTES   72198.0   8873.0   \n",
      "2   AGUASCALIENTES                    3   AGUASCALIENTES  120511.0  14465.0   \n",
      "3  BAJA CALIFORNIA                    1         MEXICALI   48257.0   8753.0   \n",
      "4  BAJA CALIFORNIA                    2         MEXICALI   33786.0   7401.0   \n",
      "\n",
      "      PRD    PVEM      PT       MC   MORENA  ...  PAN_PRD  PRI_PRD  \\\n",
      "0  6565.0  8769.0  7587.0  15288.0  71065.0  ...    187.0     56.0   \n",
      "1  4829.0  5787.0  3624.0  20862.0  63580.0  ...    231.0     31.0   \n",
      "2  3473.0  6466.0  3483.0  16793.0  62028.0  ...      0.0      0.0   \n",
      "3  1451.0  6802.0  3726.0  15030.0  77248.0  ...     42.0     19.0   \n",
      "4  1434.0  8147.0  5581.0  14428.0  85145.0  ...     37.0     21.0   \n",
      "\n",
      "   PVEM_PT_MORENA  PVEM_PT  PVEM_MORENA  PT_MORENA  \\\n",
      "0          1853.0    245.0        588.0      482.0   \n",
      "1          3100.0    198.0        724.0      603.0   \n",
      "2          3026.0    224.0        727.0      529.0   \n",
      "3             0.0      0.0          0.0        0.0   \n",
      "4             0.0      0.0          0.0        0.0   \n",
      "\n",
      "   CANDIDATO/A NO REGISTRADO/A  VOTOS NULOS  TOTAL_VOTOS_CALCULADOS  \\\n",
      "0                          137         7178                  222326   \n",
      "1                          218         4533                  193292   \n",
      "2                          230         9149                  241104   \n",
      "3                          153         7249                  171016   \n",
      "4                          149         8575                  166311   \n",
      "\n",
      "   LISTA_NOMINAL  \n",
      "0         364676  \n",
      "1         347196  \n",
      "2         385495  \n",
      "3         331719  \n",
      "4         342529  \n",
      "\n",
      "[5 rows x 23 columns]\n"
     ]
    }
   ],
   "source": [
    "import pandas as pd\n",
    "\n",
    "# Load the CSV file, skipping the first 6 rows, with the correct encoding and delimiter\n",
    "file_path = r'C:\\Proyectos\\Elecciones-2024\\data\\raw\\Diputados 2024\\DIP_FED_2024.csv'\n",
    "df = pd.read_csv(file_path, skiprows=6, encoding=\"ISO-8859-1\", delimiter=\"|\", low_memory=False)\n",
    "\n",
    "# List of columns that need to be converted to numeric values\n",
    "columns_to_convert = ['ID_ENTIDAD', 'ID_DISTRITO_FEDERAL', 'SECCION', 'ID_CASILLA', 'EXT_CONTIGUA']\n",
    "\n",
    "# Function to clean up the columns\n",
    "def clean_column(col):\n",
    "    return pd.to_numeric(col.str.replace('=\"', '').str.replace('\"', ''), errors='coerce')\n",
    "\n",
    "# Apply the function to the necessary columns\n",
    "for col in columns_to_convert:\n",
    "    df[col] = clean_column(df[col].astype(str))\n",
    "\n",
    "# Columns to keep\n",
    "columns_to_keep = [\n",
    "    'ENTIDAD', 'ID_DISTRITO_FEDERAL', 'DISTRITO_FEDERAL', 'PAN', 'PRI', 'PRD', 'PVEM', 'PT', 'MC', 'MORENA',\n",
    "    'CANDIDATO/A INDEPENDIENTE', 'PAN_PRI_PRD', 'PAN_PRI', 'PAN_PRD', 'PRI_PRD', 'PVEM_PT_MORENA', 'PVEM_PT',\n",
    "    'PVEM_MORENA', 'PT_MORENA', 'CANDIDATO/A NO REGISTRADO/A', 'VOTOS NULOS', 'TOTAL_VOTOS_CALCULADOS', 'LISTA_NOMINAL'\n",
    "]\n",
    "\n",
    "# Filter the dataframe to keep only the required columns\n",
    "df = df[columns_to_keep]\n",
    "\n",
    "# Convert vote-related columns to numeric, handling non-numeric values\n",
    "vote_columns = [\n",
    "    'PAN', 'PRI', 'PRD', 'PVEM', 'PT', 'MC', 'MORENA', 'CANDIDATO/A INDEPENDIENTE', 'PAN_PRI_PRD', 'PAN_PRI', 'PAN_PRD',\n",
    "    'PRI_PRD', 'PVEM_PT_MORENA', 'PVEM_PT', 'PVEM_MORENA', 'PT_MORENA', 'CANDIDATO/A NO REGISTRADO/A', 'VOTOS NULOS',\n",
    "    'TOTAL_VOTOS_CALCULADOS', 'LISTA_NOMINAL'\n",
    "]\n",
    "\n",
    "for col in vote_columns:\n",
    "    df[col] = pd.to_numeric(df[col], errors='coerce')\n",
    "\n",
    "# Aggregate vote-related columns by 'ID_DISTRITO_FEDERAL'\n",
    "aggregated_df = df.groupby(['ENTIDAD', 'ID_DISTRITO_FEDERAL', 'DISTRITO_FEDERAL'])[vote_columns].sum().reset_index()\n",
    "\n",
    "# Display the aggregated dataframe\n",
    "print(aggregated_df.head())"
   ]
  },
  {
   "cell_type": "code",
   "execution_count": 19,
   "id": "ab5ece7b",
   "metadata": {},
   "outputs": [
    {
     "name": "stdout",
     "output_type": "stream",
     "text": [
      "Saved the aggregated data to C:\\Proyectos\\Elecciones-2024\\data\\processed\\Aggregated_2024_distritos_federales.csv\n"
     ]
    }
   ],
   "source": [
    "output_file_path = r'C:\\Proyectos\\Elecciones-2024\\data\\processed\\Aggregated_2024_distritos_federales.csv'\n",
    "aggregated_df.to_csv(output_file_path, index=False)\n",
    "\n",
    "print(f'Saved the aggregated data to {output_file_path}')\n"
   ]
  }
 ],
 "metadata": {
  "kernelspec": {
   "display_name": "Python 3 (ipykernel)",
   "language": "python",
   "name": "python3"
  },
  "language_info": {
   "codemirror_mode": {
    "name": "ipython",
    "version": 3
   },
   "file_extension": ".py",
   "mimetype": "text/x-python",
   "name": "python",
   "nbconvert_exporter": "python",
   "pygments_lexer": "ipython3",
   "version": "3.12.3"
  }
 },
 "nbformat": 4,
 "nbformat_minor": 5
}
